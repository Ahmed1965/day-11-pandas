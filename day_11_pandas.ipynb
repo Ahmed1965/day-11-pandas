{
 "cells": [
  {
   "cell_type": "code",
   "execution_count": 15,
   "metadata": {},
   "outputs": [
    {
     "name": "stdout",
     "output_type": "stream",
     "text": [
      "0    1\n",
      "1    3\n",
      "2    4\n",
      "3    5\n",
      "4    6\n",
      "5    7\n",
      "dtype: int64\n"
     ]
    }
   ],
   "source": [
    "import pandas as pd\n",
    "import numpy as np\n",
    "\n",
    "dates = pd.Series([1,3,4,5,6,7])\n",
    "print(dates)\n"
   ]
  },
  {
   "cell_type": "code",
   "execution_count": 17,
   "metadata": {},
   "outputs": [
    {
     "data": {
      "text/plain": [
       "DatetimeIndex(['2020-01-01', '2020-01-02', '2020-01-03', '2020-01-04',\n",
       "               '2020-01-05', '2020-01-06'],\n",
       "              dtype='datetime64[ns]', freq='D')"
      ]
     },
     "execution_count": 17,
     "metadata": {},
     "output_type": "execute_result"
    }
   ],
   "source": [
    "dates = pd.date_range(\"20200101\", periods=6)\n",
    "dates"
   ]
  },
  {
   "cell_type": "code",
   "execution_count": 18,
   "metadata": {},
   "outputs": [
    {
     "data": {
      "text/plain": [
       "DatetimeIndex(['2021-01-01', '2021-01-02', '2021-01-03', '2021-01-04',\n",
       "               '2021-01-05', '2021-01-06'],\n",
       "              dtype='datetime64[ns]', freq='D')"
      ]
     },
     "execution_count": 18,
     "metadata": {},
     "output_type": "execute_result"
    }
   ],
   "source": [
    "g=pd.date_range(\"20210101\",periods=6)\n",
    "g"
   ]
  },
  {
   "cell_type": "code",
   "execution_count": 25,
   "metadata": {},
   "outputs": [
    {
     "data": {
      "text/html": [
       "<div>\n",
       "<style scoped>\n",
       "    .dataframe tbody tr th:only-of-type {\n",
       "        vertical-align: middle;\n",
       "    }\n",
       "\n",
       "    .dataframe tbody tr th {\n",
       "        vertical-align: top;\n",
       "    }\n",
       "\n",
       "    .dataframe thead th {\n",
       "        text-align: right;\n",
       "    }\n",
       "</style>\n",
       "<table border=\"1\" class=\"dataframe\">\n",
       "  <thead>\n",
       "    <tr style=\"text-align: right;\">\n",
       "      <th></th>\n",
       "      <th>A</th>\n",
       "      <th>S</th>\n",
       "      <th>D</th>\n",
       "      <th>F</th>\n",
       "    </tr>\n",
       "  </thead>\n",
       "  <tbody>\n",
       "    <tr>\n",
       "      <th>2020-01-01</th>\n",
       "      <td>1.104231</td>\n",
       "      <td>1.812548</td>\n",
       "      <td>-0.332683</td>\n",
       "      <td>0.276914</td>\n",
       "    </tr>\n",
       "    <tr>\n",
       "      <th>2020-01-02</th>\n",
       "      <td>-0.075691</td>\n",
       "      <td>-2.285390</td>\n",
       "      <td>-1.682725</td>\n",
       "      <td>2.303149</td>\n",
       "    </tr>\n",
       "    <tr>\n",
       "      <th>2020-01-03</th>\n",
       "      <td>-1.356207</td>\n",
       "      <td>0.700521</td>\n",
       "      <td>0.323794</td>\n",
       "      <td>-0.237242</td>\n",
       "    </tr>\n",
       "    <tr>\n",
       "      <th>2020-01-04</th>\n",
       "      <td>1.942535</td>\n",
       "      <td>-0.284116</td>\n",
       "      <td>1.140135</td>\n",
       "      <td>-0.360762</td>\n",
       "    </tr>\n",
       "    <tr>\n",
       "      <th>2020-01-05</th>\n",
       "      <td>-1.032370</td>\n",
       "      <td>-2.610040</td>\n",
       "      <td>-0.010193</td>\n",
       "      <td>0.160838</td>\n",
       "    </tr>\n",
       "    <tr>\n",
       "      <th>2020-01-06</th>\n",
       "      <td>-0.787692</td>\n",
       "      <td>-0.765446</td>\n",
       "      <td>-1.229800</td>\n",
       "      <td>0.210433</td>\n",
       "    </tr>\n",
       "  </tbody>\n",
       "</table>\n",
       "</div>"
      ],
      "text/plain": [
       "                   A         S         D         F\n",
       "2020-01-01  1.104231  1.812548 -0.332683  0.276914\n",
       "2020-01-02 -0.075691 -2.285390 -1.682725  2.303149\n",
       "2020-01-03 -1.356207  0.700521  0.323794 -0.237242\n",
       "2020-01-04  1.942535 -0.284116  1.140135 -0.360762\n",
       "2020-01-05 -1.032370 -2.610040 -0.010193  0.160838\n",
       "2020-01-06 -0.787692 -0.765446 -1.229800  0.210433"
      ]
     },
     "execution_count": 25,
     "metadata": {},
     "output_type": "execute_result"
    }
   ],
   "source": [
    "df = pd.DataFrame(np.random.randn(6,4),index=dates,columns=list(\"ASDF\"))\n",
    "df"
   ]
  },
  {
   "cell_type": "code",
   "execution_count": 29,
   "metadata": {},
   "outputs": [
    {
     "data": {
      "text/html": [
       "<div>\n",
       "<style scoped>\n",
       "    .dataframe tbody tr th:only-of-type {\n",
       "        vertical-align: middle;\n",
       "    }\n",
       "\n",
       "    .dataframe tbody tr th {\n",
       "        vertical-align: top;\n",
       "    }\n",
       "\n",
       "    .dataframe thead th {\n",
       "        text-align: right;\n",
       "    }\n",
       "</style>\n",
       "<table border=\"1\" class=\"dataframe\">\n",
       "  <thead>\n",
       "    <tr style=\"text-align: right;\">\n",
       "      <th></th>\n",
       "      <th>C</th>\n",
       "      <th>A</th>\n",
       "      <th>C</th>\n",
       "      <th>E</th>\n",
       "    </tr>\n",
       "  </thead>\n",
       "  <tbody>\n",
       "    <tr>\n",
       "      <th>2020-01-01</th>\n",
       "      <td>-0.565993</td>\n",
       "      <td>-1.161156</td>\n",
       "      <td>-0.788257</td>\n",
       "      <td>0.552033</td>\n",
       "    </tr>\n",
       "    <tr>\n",
       "      <th>2020-01-02</th>\n",
       "      <td>2.495421</td>\n",
       "      <td>-1.684718</td>\n",
       "      <td>0.617713</td>\n",
       "      <td>-0.982333</td>\n",
       "    </tr>\n",
       "    <tr>\n",
       "      <th>2020-01-03</th>\n",
       "      <td>0.031771</td>\n",
       "      <td>0.208545</td>\n",
       "      <td>1.437185</td>\n",
       "      <td>-0.350680</td>\n",
       "    </tr>\n",
       "    <tr>\n",
       "      <th>2020-01-04</th>\n",
       "      <td>-0.885911</td>\n",
       "      <td>0.541584</td>\n",
       "      <td>-1.321772</td>\n",
       "      <td>0.596881</td>\n",
       "    </tr>\n",
       "    <tr>\n",
       "      <th>2020-01-05</th>\n",
       "      <td>-1.381881</td>\n",
       "      <td>-0.178934</td>\n",
       "      <td>1.529086</td>\n",
       "      <td>0.894424</td>\n",
       "    </tr>\n",
       "    <tr>\n",
       "      <th>2020-01-06</th>\n",
       "      <td>1.154338</td>\n",
       "      <td>-0.880666</td>\n",
       "      <td>-1.958463</td>\n",
       "      <td>0.139171</td>\n",
       "    </tr>\n",
       "  </tbody>\n",
       "</table>\n",
       "</div>"
      ],
      "text/plain": [
       "                   C         A         C         E\n",
       "2020-01-01 -0.565993 -1.161156 -0.788257  0.552033\n",
       "2020-01-02  2.495421 -1.684718  0.617713 -0.982333\n",
       "2020-01-03  0.031771  0.208545  1.437185 -0.350680\n",
       "2020-01-04 -0.885911  0.541584 -1.321772  0.596881\n",
       "2020-01-05 -1.381881 -0.178934  1.529086  0.894424\n",
       "2020-01-06  1.154338 -0.880666 -1.958463  0.139171"
      ]
     },
     "execution_count": 29,
     "metadata": {},
     "output_type": "execute_result"
    }
   ],
   "source": [
    "s=pd.DataFrame(np.random.randn(6,4),index=dates,columns=list(\"CACE\"))\n",
    "s"
   ]
  },
  {
   "cell_type": "code",
   "execution_count": 31,
   "metadata": {},
   "outputs": [
    {
     "data": {
      "text/html": [
       "<div>\n",
       "<style scoped>\n",
       "    .dataframe tbody tr th:only-of-type {\n",
       "        vertical-align: middle;\n",
       "    }\n",
       "\n",
       "    .dataframe tbody tr th {\n",
       "        vertical-align: top;\n",
       "    }\n",
       "\n",
       "    .dataframe thead th {\n",
       "        text-align: right;\n",
       "    }\n",
       "</style>\n",
       "<table border=\"1\" class=\"dataframe\">\n",
       "  <thead>\n",
       "    <tr style=\"text-align: right;\">\n",
       "      <th></th>\n",
       "      <th>A</th>\n",
       "      <th>R</th>\n",
       "      <th>F</th>\n",
       "      <th>C</th>\n",
       "    </tr>\n",
       "  </thead>\n",
       "  <tbody>\n",
       "    <tr>\n",
       "      <th>2020-01-01</th>\n",
       "      <td>1.025334</td>\n",
       "      <td>-0.313818</td>\n",
       "      <td>1.117666</td>\n",
       "      <td>-0.116792</td>\n",
       "    </tr>\n",
       "    <tr>\n",
       "      <th>2020-01-02</th>\n",
       "      <td>-1.388758</td>\n",
       "      <td>-1.101553</td>\n",
       "      <td>-1.896666</td>\n",
       "      <td>-1.230824</td>\n",
       "    </tr>\n",
       "    <tr>\n",
       "      <th>2020-01-03</th>\n",
       "      <td>0.185262</td>\n",
       "      <td>-0.821666</td>\n",
       "      <td>-0.181874</td>\n",
       "      <td>1.902708</td>\n",
       "    </tr>\n",
       "    <tr>\n",
       "      <th>2020-01-04</th>\n",
       "      <td>-0.955581</td>\n",
       "      <td>-0.259661</td>\n",
       "      <td>-0.744891</td>\n",
       "      <td>1.123851</td>\n",
       "    </tr>\n",
       "    <tr>\n",
       "      <th>2020-01-05</th>\n",
       "      <td>-0.027418</td>\n",
       "      <td>-1.106775</td>\n",
       "      <td>0.039875</td>\n",
       "      <td>-1.349581</td>\n",
       "    </tr>\n",
       "    <tr>\n",
       "      <th>2020-01-06</th>\n",
       "      <td>0.130735</td>\n",
       "      <td>-0.293067</td>\n",
       "      <td>0.519408</td>\n",
       "      <td>-0.660280</td>\n",
       "    </tr>\n",
       "  </tbody>\n",
       "</table>\n",
       "</div>"
      ],
      "text/plain": [
       "                   A         R         F         C\n",
       "2020-01-01  1.025334 -0.313818  1.117666 -0.116792\n",
       "2020-01-02 -1.388758 -1.101553 -1.896666 -1.230824\n",
       "2020-01-03  0.185262 -0.821666 -0.181874  1.902708\n",
       "2020-01-04 -0.955581 -0.259661 -0.744891  1.123851\n",
       "2020-01-05 -0.027418 -1.106775  0.039875 -1.349581\n",
       "2020-01-06  0.130735 -0.293067  0.519408 -0.660280"
      ]
     },
     "execution_count": 31,
     "metadata": {},
     "output_type": "execute_result"
    }
   ],
   "source": [
    "f=pd.DataFrame(np.random.randn(6,4),index=dates,columns=list(\"ARFC\"))\n",
    "f"
   ]
  }
 ],
 "metadata": {
  "interpreter": {
   "hash": "916dbcbb3f70747c44a77c7bcd40155683ae19c65e1c03b4aa3499c5328201f1"
  },
  "kernelspec": {
   "display_name": "Python 3.8.10 64-bit",
   "language": "python",
   "name": "python3"
  },
  "language_info": {
   "codemirror_mode": {
    "name": "ipython",
    "version": 3
   },
   "file_extension": ".py",
   "mimetype": "text/x-python",
   "name": "python",
   "nbconvert_exporter": "python",
   "pygments_lexer": "ipython3",
   "version": "3.8.10"
  },
  "orig_nbformat": 4
 },
 "nbformat": 4,
 "nbformat_minor": 2
}
